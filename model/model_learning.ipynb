{
 "cells": [
  {
   "cell_type": "markdown",
   "metadata": {},
   "source": [
    "## Model Learning\n",
    "- bagging 방법을 이용한 Random Forest\n",
    "- Boosting 방법을 이용"
   ]
  },
  {
   "cell_type": "code",
   "execution_count": 1,
   "metadata": {},
   "outputs": [],
   "source": [
    "from sklearn.preprocessing import StandardScaler\n",
    "from sklearn.preprocessing import LabelEncoder\n",
    "from sklearn.tree import DecisionTreeClassifier\n",
    "from sklearn.ensemble import RandomForestClassifier, BaggingClassifier, AdaBoostClassifier\n",
    "from sklearn.model_selection import cross_val_score\n",
    "from sklearn.model_selection import train_test_split\n",
    "from sklearn.metrics import accuracy_score, classification_report\n",
    "from xgboost import XGBClassifier\n",
    "from sklearn.linear_model import LogisticRegression\n",
    "\n",
    "import pandas as pd\n",
    "import numpy as np\n",
    "\n",
    "#Visualization\n",
    "import matplotlib.pyplot as plt\n",
    "import seaborn as sns\n",
    "plt.style.use('fivethirtyeight')\n",
    "plt.rcParams[\"figure.figsize\"] = (8, 6)"
   ]
  },
  {
   "cell_type": "code",
   "execution_count": 2,
   "metadata": {},
   "outputs": [],
   "source": [
    "header_list = [\"age\",\"workclass\",\"fnlwgt\",\"education\",\"education_num\",\"marital-status\",\"occupation\",\n",
    "               \"relationship\",\"race\",\"sex\",\"capital-gain\",\"capital-loss\",\"hours-per-week\",\"native-country\",\n",
    "               \"income\"] #15 columns (14 features, 1 target).\n",
    "dataset = pd.read_csv(\"C:/Users/ksmin/ds_teamproject/Dataset/Adult Data.csv\", names=header_list)"
   ]
  },
  {
   "cell_type": "code",
   "execution_count": 3,
   "metadata": {},
   "outputs": [],
   "source": [
    "#y값을 변형하는 과정\n",
    "dataset['income'] = dataset['income'].map(lambda x: 1 if x==' >50K' else 0)"
   ]
  },
  {
   "cell_type": "code",
   "execution_count": null,
   "metadata": {},
   "outputs": [],
   "source": []
  },
  {
   "cell_type": "code",
   "execution_count": 4,
   "metadata": {},
   "outputs": [
    {
     "name": "stdout",
     "output_type": "stream",
     "text": [
      "   age  workclass  fnlwgt  education  education_num  marital-status  \\\n",
      "0   39          7   77516          9             13               4   \n",
      "1   50          6   83311          9             13               2   \n",
      "2   38          4  215646         11              9               0   \n",
      "3   53          4  234721          1              7               2   \n",
      "4   28          4  338409          9             13               2   \n",
      "\n",
      "   occupation  relationship  race  sex  capital-gain  capital-loss  \\\n",
      "0           1             1     4    1          2174             0   \n",
      "1           4             0     4    1             0             0   \n",
      "2           6             1     4    1             0             0   \n",
      "3           6             0     2    1             0             0   \n",
      "4          10             5     2    0             0             0   \n",
      "\n",
      "   hours-per-week  native-country  \n",
      "0              40              39  \n",
      "1              13              39  \n",
      "2              40              39  \n",
      "3              40              39  \n",
      "4              40               5  \n"
     ]
    }
   ],
   "source": [
    "# 특성과 타겟 분리\n",
    "X = dataset.drop('income', axis=1)\n",
    "y = dataset['income']\n",
    "\n",
    "#LabelEncoder를 진행. 가중치가 없는 것으로 이용\n",
    "String_index = []\n",
    "for i, col in enumerate (X.columns):\n",
    "    if X[col].dtype==object:\n",
    "        String_index.append(col)\n",
    "\n",
    "encoder = LabelEncoder()\n",
    "for col in String_index:\n",
    "    X[col] = encoder.fit_transform(X[col])\n",
    "\n",
    "print(X.head())"
   ]
  },
  {
   "cell_type": "code",
   "execution_count": 5,
   "metadata": {},
   "outputs": [],
   "source": [
    "# 데이터 분할\n",
    "X_train, X_test, y_train, y_test = train_test_split(X, y, test_size=0.2, random_state=42, stratify=dataset.income)\n",
    "\n",
    "# 특성 스케일링\n",
    "scaler = StandardScaler()\n",
    "X_train_scaled = scaler.fit_transform(X_train)\n",
    "X_test_scaled = scaler.transform(X_test)"
   ]
  },
  {
   "cell_type": "code",
   "execution_count": 6,
   "metadata": {},
   "outputs": [
    {
     "name": "stdout",
     "output_type": "stream",
     "text": [
      "(26048, 15)\n"
     ]
    }
   ],
   "source": [
    "#train 데이터를 살펴보자\n",
    "train, test = train_test_split(dataset, test_size=0.2, random_state=2024)\n",
    "\n",
    "print(train.shape)"
   ]
  },
  {
   "cell_type": "code",
   "execution_count": 7,
   "metadata": {},
   "outputs": [
    {
     "name": "stdout",
     "output_type": "stream",
     "text": [
      "Bagging Classifier Accuracy: 0.855366190695532\n",
      "Bagging Classifier Classification Report:\n",
      "               precision    recall  f1-score   support\n",
      "\n",
      "           0       0.89      0.93      0.91      4945\n",
      "           1       0.73      0.63      0.68      1568\n",
      "\n",
      "    accuracy                           0.86      6513\n",
      "   macro avg       0.81      0.78      0.79      6513\n",
      "weighted avg       0.85      0.86      0.85      6513\n",
      "\n"
     ]
    }
   ],
   "source": [
    "# BaggingClassifier 모델 학습\n",
    "bagging_model = BaggingClassifier(\n",
    "    DecisionTreeClassifier(),\n",
    "    n_estimators=100,\n",
    "    random_state=42\n",
    ")\n",
    "bagging_model.fit(X_train, y_train)\n",
    "\n",
    "# 예측 및 평가\n",
    "y_pred_bagging = bagging_model.predict(X_test)\n",
    "print(\"Bagging Classifier Accuracy:\", accuracy_score(y_test, y_pred_bagging))\n",
    "print(\"Bagging Classifier Classification Report:\\n\", classification_report(y_test, y_pred_bagging))"
   ]
  },
  {
   "cell_type": "code",
   "execution_count": 8,
   "metadata": {},
   "outputs": [
    {
     "name": "stderr",
     "output_type": "stream",
     "text": [
      "c:\\Users\\ksmin\\AppData\\Local\\Programs\\Python\\Python312\\Lib\\site-packages\\sklearn\\ensemble\\_weight_boosting.py:519: FutureWarning: The SAMME.R algorithm (the default) is deprecated and will be removed in 1.6. Use the SAMME algorithm to circumvent this warning.\n",
      "  warnings.warn(\n"
     ]
    },
    {
     "name": "stdout",
     "output_type": "stream",
     "text": [
      "AdaBoost Classifier Accuracy: 0.8132964839551666\n",
      "AdaBoost Classifier Classification Report:\n",
      "               precision    recall  f1-score   support\n",
      "\n",
      "           0       0.88      0.87      0.88      4945\n",
      "           1       0.61      0.63      0.62      1568\n",
      "\n",
      "    accuracy                           0.81      6513\n",
      "   macro avg       0.74      0.75      0.75      6513\n",
      "weighted avg       0.82      0.81      0.81      6513\n",
      "\n"
     ]
    }
   ],
   "source": [
    "# AdaBoostClassifier 모델 학습\n",
    "boosting_model = AdaBoostClassifier(\n",
    "    DecisionTreeClassifier(),\n",
    "    n_estimators=100,\n",
    "    random_state=42\n",
    ")\n",
    "boosting_model.fit(X_train, y_train)\n",
    "\n",
    "# 예측 및 평가\n",
    "y_pred_boosting = boosting_model.predict(X_test)\n",
    "print(\"AdaBoost Classifier Accuracy:\", accuracy_score(y_test, y_pred_boosting))\n",
    "print(\"AdaBoost Classifier Classification Report:\\n\", classification_report(y_test, y_pred_boosting))"
   ]
  },
  {
   "cell_type": "code",
   "execution_count": 9,
   "metadata": {},
   "outputs": [
    {
     "name": "stdout",
     "output_type": "stream",
     "text": [
      "Accuracy: 0.8593582066635959\n",
      "Classification Report:\n",
      "              precision    recall  f1-score   support\n",
      "\n",
      "           0       0.89      0.93      0.91      4945\n",
      "           1       0.74      0.64      0.69      1568\n",
      "\n",
      "    accuracy                           0.86      6513\n",
      "   macro avg       0.82      0.78      0.80      6513\n",
      "weighted avg       0.85      0.86      0.86      6513\n",
      "\n"
     ]
    }
   ],
   "source": [
    "# 랜덤포레스트 모델 학습\n",
    "rf_model = RandomForestClassifier(n_estimators=100, random_state=42)\n",
    "rf_model.fit(X_train, y_train)\n",
    "\n",
    "# 예측\n",
    "y_pred = rf_model.predict(X_test)\n",
    "\n",
    "# 평가\n",
    "accuracy = accuracy_score(y_test, y_pred)\n",
    "report = classification_report(y_test, y_pred)\n",
    "\n",
    "print(f'Accuracy: {accuracy}')\n",
    "print('Classification Report:')\n",
    "print(report)"
   ]
  },
  {
   "cell_type": "code",
   "execution_count": 10,
   "metadata": {},
   "outputs": [
    {
     "name": "stdout",
     "output_type": "stream",
     "text": [
      "Accuracy: 0.8747121142330723\n",
      "Classification Report:\n",
      "              precision    recall  f1-score   support\n",
      "\n",
      "           0       0.90      0.94      0.92      4945\n",
      "           1       0.78      0.66      0.72      1568\n",
      "\n",
      "    accuracy                           0.87      6513\n",
      "   macro avg       0.84      0.80      0.82      6513\n",
      "weighted avg       0.87      0.87      0.87      6513\n",
      "\n"
     ]
    }
   ],
   "source": [
    "# XGBoost 모델 학습\n",
    "xgb_model = XGBClassifier(n_estimators=100, learning_rate=0.1, random_state=42)\n",
    "xgb_model.fit(X_train, y_train)\n",
    "\n",
    "# 예측\n",
    "y_pred = xgb_model.predict(X_test)\n",
    "\n",
    "# 모델 평가\n",
    "accuracy = accuracy_score(y_test, y_pred)\n",
    "report = classification_report(y_test, y_pred)\n",
    "\n",
    "print(f'Accuracy: {accuracy}')\n",
    "print('Classification Report:')\n",
    "print(report)"
   ]
  },
  {
   "cell_type": "code",
   "execution_count": 11,
   "metadata": {},
   "outputs": [
    {
     "name": "stdout",
     "output_type": "stream",
     "text": [
      "Accuracy: 0.8278826961461692\n",
      "Classification Report:\n",
      "              precision    recall  f1-score   support\n",
      "\n",
      "           0       0.85      0.94      0.89      4945\n",
      "           1       0.72      0.46      0.56      1568\n",
      "\n",
      "    accuracy                           0.83      6513\n",
      "   macro avg       0.79      0.70      0.73      6513\n",
      "weighted avg       0.82      0.83      0.81      6513\n",
      "\n"
     ]
    }
   ],
   "source": [
    "# 로지스틱 회귀 모델 학습\n",
    "lr_model = LogisticRegression(max_iter=1000)  # max_iter는 수렴까지의 반복 횟수, 필요에 따라 조정 가능\n",
    "lr_model.fit(X_train_scaled, y_train)\n",
    "\n",
    "# 예측\n",
    "y_pred = lr_model.predict(X_test_scaled)\n",
    "\n",
    "# 평가\n",
    "accuracy = accuracy_score(y_test, y_pred)\n",
    "report = classification_report(y_test, y_pred)\n",
    "\n",
    "print(f'Accuracy: {accuracy}')\n",
    "print('Classification Report:')\n",
    "print(report)"
   ]
  },
  {
   "cell_type": "code",
   "execution_count": 12,
   "metadata": {},
   "outputs": [
    {
     "name": "stdout",
     "output_type": "stream",
     "text": [
      "Accuracy: 0.8129894058037771\n",
      "Classification Report:\n",
      "              precision    recall  f1-score   support\n",
      "\n",
      "           0       0.88      0.87      0.88      4945\n",
      "           1       0.61      0.64      0.62      1568\n",
      "\n",
      "    accuracy                           0.81      6513\n",
      "   macro avg       0.74      0.75      0.75      6513\n",
      "weighted avg       0.82      0.81      0.81      6513\n",
      "\n"
     ]
    }
   ],
   "source": [
    "# Decision Tree 모델 학습\n",
    "dt_model = DecisionTreeClassifier(random_state=42)\n",
    "dt_model.fit(X_train, y_train)\n",
    "\n",
    "# 예측\n",
    "y_pred = dt_model.predict(X_test)\n",
    "\n",
    "# 평가\n",
    "accuracy = accuracy_score(y_test, y_pred)\n",
    "report = classification_report(y_test, y_pred)\n",
    "\n",
    "print(f'Accuracy: {accuracy}')\n",
    "print('Classification Report:')\n",
    "print(report)"
   ]
  }
 ],
 "metadata": {
  "kernelspec": {
   "display_name": "Python 3",
   "language": "python",
   "name": "python3"
  },
  "language_info": {
   "codemirror_mode": {
    "name": "ipython",
    "version": 3
   },
   "file_extension": ".py",
   "mimetype": "text/x-python",
   "name": "python",
   "nbconvert_exporter": "python",
   "pygments_lexer": "ipython3",
   "version": "3.12.1"
  }
 },
 "nbformat": 4,
 "nbformat_minor": 2
}
